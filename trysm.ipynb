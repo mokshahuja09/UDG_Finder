{
 "cells": [
  {
   "cell_type": "code",
   "execution_count": 4,
   "metadata": {},
   "outputs": [],
   "source": [
    "from astropy.io import fits\n",
    "from astropy.io import ascii as asc\n",
    "import matplotlib.pyplot as plt\n",
    "from matplotlib.patches import Circle\n",
    "import numpy as np\n",
    "import pandas as pd\n",
    "import os\n",
    "import json\n",
    "import copy\n",
    "import shutil as sh\n",
    "import time\n",
    "import regex as re"
   ]
  },
  {
   "cell_type": "code",
   "execution_count": 9,
   "metadata": {},
   "outputs": [],
   "source": [
    "def lines_lister(file_path):\n",
    "    with open(file_path) as opened_file:\n",
    "        lines_in_file = opened_file.readlines()\n",
    "    return lines_in_file\n",
    "\n",
    "def addreplace_param(file_lines, param_to_replace, new_str, add_str = False, split_condition = ': '):\n",
    "    new_lines = file_lines.copy()\n",
    "    indexer = 0\n",
    "    for line_index in range(len(file_lines)):\n",
    "        line = file_lines[line_index]\n",
    "        if len(line) == 0:\n",
    "            continue\n",
    "        \n",
    "        if (line.startswith(param_to_replace)) & (line.find('#') > 0):\n",
    "            line_elements = line.split('#')[0].split(split_condition)\n",
    "            old_str = line_elements[1].strip()\n",
    "            if add_str == True:\n",
    "                final_str = line_elements[0] + split_condition + old_str + str(new_str) + ' #' + line.split('#')[1]\n",
    "            elif add_str == False:\n",
    "                final_str = line_elements[0] + split_condition + str(new_str) + ' #' + line.split('#')[1]\n",
    "\n",
    "            new_lines[line_index] = final_str\n",
    "            indexer += 1\n",
    "            \n",
    "        elif line.startswith(param_to_replace):\n",
    "            line_elements = line.split(split_condition)\n",
    "            old_str = line_elements[1].strip()\n",
    "            if add_str == True:\n",
    "                final_str = line_elements[0] + split_condition + old_str + str(new_str) + '\\n'\n",
    "            elif add_str == False:\n",
    "                final_str = line_elements[0] + split_condition + str(new_str) + '\\n'\n",
    "            \n",
    "            new_lines[line_index] = final_str\n",
    "            indexer += 1  \n",
    "\n",
    "    if indexer <= 0:\n",
    "        print('replacing the param has not worked')\n",
    "    \n",
    "    return new_lines\n",
    "\n",
    "def write_file(new_file_dir, updated_line_list: list):\n",
    "    with open(new_file_dir, 'w') as overwritten:\n",
    "        overwritten.writelines(updated_line_list)\n",
    "\n",
    "file_dir = '/Users/mokshahuja/Desktop/14_RD_pipeline/config_pipe/image.sex'\n",
    "\n",
    "lines_to_use = lines_lister(file_dir)\n",
    "newlines = addreplace_param(lines_to_use, 'DETECT_THRESH', new_str= 2.0, add_str= False, split_condition= '    ')\n",
    "write_file(file_dir, newlines)\n",
    "\n"
   ]
  },
  {
   "cell_type": "code",
   "execution_count": 10,
   "metadata": {},
   "outputs": [
    {
     "name": "stdout",
     "output_type": "stream",
     "text": [
      "('/Users/mokshahuja/Desktop/14_RD_pipeline/config_pipe/image', '.sex')\n"
     ]
    }
   ],
   "source": [
    "splitfile = os.path.splitext(file_dir)\n",
    "print(splitfile)"
   ]
  },
  {
   "cell_type": "code",
   "execution_count": 3,
   "metadata": {},
   "outputs": [
    {
     "data": {
      "text/plain": [
       "array([-0.29361392,  0.0622676 ,  0.28513627, -0.17240359,  0.1977875 ,\n",
       "        0.65671181, -0.16480312,  0.0502017 ,  0.14465899, -0.23694494])"
      ]
     },
     "execution_count": 3,
     "metadata": {},
     "output_type": "execute_result"
    }
   ],
   "source": [
    "np.random.normal(scale = 0.3, size = 10)"
   ]
  },
  {
   "cell_type": "code",
   "execution_count": 2,
   "metadata": {},
   "outputs": [],
   "source": [
    "data ={\n",
    "        \"20\": {\n",
    "            \"False_Detections\": 262,\n",
    "            \"Total_Inserted\": 15,\n",
    "            \"Total_Detected\": 11\n",
    "        },\n",
    "        \"21\": {\n",
    "            \"False_Detections\": 264,\n",
    "            \"Total_Inserted\": 15,\n",
    "            \"Total_Detected\": 8\n",
    "        },\n",
    "        \"22\": {\n",
    "            \"False_Detections\": 268,\n",
    "            \"Total_Inserted\": 15,\n",
    "            \"Total_Detected\": 10\n",
    "        }\n",
    "    }"
   ]
  },
  {
   "cell_type": "code",
   "execution_count": 2,
   "metadata": {},
   "outputs": [],
   "source": [
    "data2 = {}"
   ]
  },
  {
   "cell_type": "code",
   "execution_count": 2,
   "metadata": {},
   "outputs": [
    {
     "ename": "KeyError",
     "evalue": "'False_Detections'",
     "output_type": "error",
     "traceback": [
      "\u001b[0;31m---------------------------------------------------------------------------\u001b[0m",
      "\u001b[0;31mKeyError\u001b[0m                                  Traceback (most recent call last)",
      "Cell \u001b[0;32mIn[2], line 13\u001b[0m\n\u001b[1;32m      9\u001b[0m             final_dict[column] \u001b[38;5;241m=\u001b[39m final_dict\u001b[38;5;241m.\u001b[39mget(column, \u001b[38;5;241m0\u001b[39m) \u001b[38;5;241m+\u001b[39m dict_to_use[each_item][column]\n\u001b[1;32m     10\u001b[0m     \u001b[38;5;28;01mreturn\u001b[39;00m final_dict\n\u001b[0;32m---> 13\u001b[0m final_dict \u001b[38;5;241m=\u001b[39m column_dict_summer(data, [\u001b[38;5;124m'\u001b[39m\u001b[38;5;124mFalse_Detections\u001b[39m\u001b[38;5;124m'\u001b[39m, \u001b[38;5;124m'\u001b[39m\u001b[38;5;124mTotal_Inserted\u001b[39m\u001b[38;5;124m'\u001b[39m, \u001b[38;5;124m'\u001b[39m\u001b[38;5;124mTotal_Detected\u001b[39m\u001b[38;5;124m'\u001b[39m])\n\u001b[1;32m     14\u001b[0m \u001b[38;5;28mprint\u001b[39m(json\u001b[38;5;241m.\u001b[39mdumps(final_dict, indent\u001b[38;5;241m=\u001b[39m\u001b[38;5;241m4\u001b[39m, default\u001b[38;5;241m=\u001b[39m convert_np))\n",
      "Cell \u001b[0;32mIn[2], line 9\u001b[0m, in \u001b[0;36mcolumn_dict_summer\u001b[0;34m(dict_to_use, columns)\u001b[0m\n\u001b[1;32m      7\u001b[0m \u001b[38;5;28;01mfor\u001b[39;00m column \u001b[38;5;129;01min\u001b[39;00m columns:\n\u001b[1;32m      8\u001b[0m     \u001b[38;5;28;01mfor\u001b[39;00m each_item \u001b[38;5;129;01min\u001b[39;00m dict_to_use:\n\u001b[0;32m----> 9\u001b[0m         final_dict[column] \u001b[38;5;241m=\u001b[39m final_dict\u001b[38;5;241m.\u001b[39mget(column, \u001b[38;5;241m0\u001b[39m) \u001b[38;5;241m+\u001b[39m dict_to_use[each_item][column]\n\u001b[1;32m     10\u001b[0m \u001b[38;5;28;01mreturn\u001b[39;00m final_dict\n",
      "\u001b[0;31mKeyError\u001b[0m: 'False_Detections'"
     ]
    }
   ],
   "source": [
    "def convert_np(obj):\n",
    "    if isinstance(obj, np.int64):\n",
    "        return int(obj)\n",
    "\n",
    "def column_dict_summer(dict_to_use, columns):\n",
    "    final_dict = {}\n",
    "    for column in columns:\n",
    "        for each_item in dict_to_use:\n",
    "            final_dict[column] = final_dict.get(column, 0) + dict_to_use[each_item][column]\n",
    "    return final_dict\n",
    "\n",
    "\n",
    "final_dict = column_dict_summer(data, ['False_Detections', 'Total_Inserted', 'Total_Detected'])\n",
    "print(json.dumps(final_dict, indent=4, default= convert_np))      "
   ]
  },
  {
   "cell_type": "code",
   "execution_count": 1,
   "metadata": {},
   "outputs": [
    {
     "name": "stdout",
     "output_type": "stream",
     "text": [
      "DataFrame 1:\n",
      "   A   B   C\n",
      "0  6  17  23\n",
      "1  7  18  29\n",
      "2  2  14  27\n",
      "DataFrame 2:\n",
      "   A   B   C\n",
      "0  5  10  21\n",
      "1  3  12  24\n",
      "2  8  19  20\n",
      "3  8  16  23\n",
      "4  2  13  20\n"
     ]
    }
   ],
   "source": [
    "import pandas as pd\n",
    "import numpy as np\n",
    "\n",
    "# Creating a random DataFrame with 3 rows and 3 columns\n",
    "df1 = pd.DataFrame({\n",
    "    'A': np.random.randint(1, 10, 3),\n",
    "    'B': np.random.randint(10, 20, 3),\n",
    "    'C': np.random.randint(20, 30, 3)\n",
    "})\n",
    "\n",
    "print(\"DataFrame 1:\")\n",
    "print(df1)\n",
    "\n",
    "# Creating another random DataFrame with 5 rows and 3 columns\n",
    "df2 = pd.DataFrame({\n",
    "    'A': np.random.randint(1, 10, 5),\n",
    "    'B': np.random.randint(10, 20, 5),\n",
    "    'C': np.random.randint(20, 30, 5)\n",
    "})\n",
    "\n",
    "print(\"DataFrame 2:\")\n",
    "print(df2)\n",
    "\n"
   ]
  },
  {
   "cell_type": "code",
   "execution_count": 4,
   "metadata": {},
   "outputs": [
    {
     "name": "stdout",
     "output_type": "stream",
     "text": [
      "   index  A   B   C\n",
      "0      0  6  17  23\n",
      "1      1  7  18  29\n",
      "2      2  2  14  27\n",
      "3      0  5  10  21\n",
      "4      1  3  12  24\n",
      "5      2  8  19  20\n",
      "6      3  8  16  23\n",
      "7      4  2  13  20\n"
     ]
    }
   ],
   "source": [
    "df_final = pd.concat([df1, df2])\n",
    "print(df_final.reset_index())"
   ]
  },
  {
   "cell_type": "code",
   "execution_count": 3,
   "metadata": {},
   "outputs": [],
   "source": [
    "data = {\n",
    "                    \"20\": {\n",
    "                        \"False_Detections\": 13,\n",
    "                        \"Total_Inserted\": 15,\n",
    "                        \"Total_Detected\": 12,\n",
    "                        \"Completeness\": 80.0,\n",
    "                        \"Reliability\": 48.0\n",
    "                    },\n",
    "                    \"21\": {\n",
    "                        \"False_Detections\": 17,\n",
    "                        \"Total_Inserted\": 15,\n",
    "                        \"Total_Detected\": 8,\n",
    "                        \"Completeness\": 53.33,\n",
    "                        \"Reliability\": 32.0\n",
    "                    },\n",
    "                    \"22\": {\n",
    "                        \"False_Detections\": 12,\n",
    "                        \"Total_Inserted\": 15,\n",
    "                        \"Total_Detected\": 13,\n",
    "                        \"Completeness\": 86.67,\n",
    "                        \"Reliability\": 52.0\n",
    "                    }\n",
    "                }"
   ]
  },
  {
   "cell_type": "code",
   "execution_count": 5,
   "metadata": {},
   "outputs": [
    {
     "name": "stdout",
     "output_type": "stream",
     "text": [
      "{'False_Detections': 42, 'Total_Inserted': 45, 'Total_Detected': 33, 'Completeness': 73.33, 'Reliability': 44.0}\n"
     ]
    }
   ],
   "source": [
    "def column_dict_summer(dict_to_use, column_ops_dict: dict):\n",
    "    final_dict = {}\n",
    "    for column in column_ops_dict:\n",
    "        for each_item in dict_to_use:\n",
    "            # print('LEN', (dict_to_use))\n",
    "            if len(dict_to_use[each_item]) > 0:\n",
    "                final_dict[column] = final_dict.get(column, 0) + dict_to_use[each_item][column]\n",
    "                \n",
    "        if column_ops_dict[column] == 'mean':\n",
    "            final_dict[column] = round(final_dict[column]/len(dict_to_use), 2)         \n",
    "\n",
    "    return final_dict\n",
    "\n",
    "column_operations_dict = {\n",
    "    'False_Detections': 'sum', \n",
    "    'Total_Inserted': 'sum', \n",
    "    'Total_Detected': 'sum',\n",
    "    'Completeness': 'mean',\n",
    "    'Reliability': 'mean'\n",
    "}\n",
    "final_dict = column_dict_summer(data, column_operations_dict)\n",
    "print(final_dict)"
   ]
  },
  {
   "cell_type": "code",
   "execution_count": 6,
   "metadata": {},
   "outputs": [
    {
     "name": "stdout",
     "output_type": "stream",
     "text": [
      "hello\n"
     ]
    }
   ],
   "source": [
    "print('hello')"
   ]
  },
  {
   "cell_type": "code",
   "execution_count": null,
   "metadata": {},
   "outputs": [],
   "source": []
  }
 ],
 "metadata": {
  "kernelspec": {
   "display_name": "base",
   "language": "python",
   "name": "python3"
  },
  "language_info": {
   "codemirror_mode": {
    "name": "ipython",
    "version": 3
   },
   "file_extension": ".py",
   "mimetype": "text/x-python",
   "name": "python",
   "nbconvert_exporter": "python",
   "pygments_lexer": "ipython3",
   "version": "3.12.4"
  }
 },
 "nbformat": 4,
 "nbformat_minor": 2
}
