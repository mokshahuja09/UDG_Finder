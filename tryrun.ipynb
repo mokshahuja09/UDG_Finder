{
 "cells": [
  {
   "cell_type": "code",
   "execution_count": 1,
   "metadata": {},
   "outputs": [],
   "source": [
    "from astropy.io import fits\n",
    "from astropy.io import ascii as asc\n",
    "import matplotlib.pyplot as plt\n",
    "from matplotlib.patches import Circle\n",
    "import numpy as np\n",
    "import pandas as pd\n",
    "import os"
   ]
  },
  {
   "cell_type": "code",
   "execution_count": 1,
   "metadata": {},
   "outputs": [],
   "source": [
    "data_dict = {\n",
    "  82.37: [8, 9, 7, 0, 3],\n",
    "  88.99: [0, 6, 6, 5, 10],\n",
    "  96.08: [8, 9, 3, 4, 0],\n",
    "  24.84: [0, 0, 5, 3, 9],\n",
    "  22.67: [9, 6, 8, 0, 5],\n",
    "  57.16: [5, 9, 5, 7, 10],\n",
    "  45.52: [6, 3, 7, 0, 5],\n",
    "  22.44: [2, 4, 9, 0, 8],\n",
    "  15.28: [2, 0, 10, 1, 5],\n",
    "  24.26: [9, 7, 5, 0, 6]\n",
    "}"
   ]
  },
  {
   "cell_type": "code",
   "execution_count": 23,
   "metadata": {},
   "outputs": [
    {
     "name": "stdout",
     "output_type": "stream",
     "text": [
      "     Name  Age       Year\n",
      "0   Moksh   10   Freshman\n",
      "2  Alexis   30     Junior\n",
      "4   Aaril   30  Sophomore\n"
     ]
    }
   ],
   "source": [
    "df1 = pd.DataFrame({\n",
    "    'Name': ['Moksh', 'Rasmus', 'Alexis', 'Sumeru', 'Aaril'],\n",
    "    'Age': [10, 20 , 30, 29, 30],\n",
    "    'Year': ['Freshman', 'Sophomore', 'Junior', 'Freshman', 'Sophomore']\n",
    "}\n",
    ")\n",
    "\n",
    "\n",
    "df2 = df1.iloc[[0, 2, 4], :]\n",
    "print(df2)\n",
    "\n",
    "# df2 = pd.DataFrame()\n",
    "\n",
    "# for row in df1.index:\n",
    "#     df_to_insert = pd.DataFrame(df1.iloc[row, :]).T\n",
    "#     df2 = pd.concat([df2, df_to_insert])\n",
    "#     print(df2)"
   ]
  },
  {
   "cell_type": "code",
   "execution_count": 4,
   "metadata": {},
   "outputs": [
    {
     "name": "stdout",
     "output_type": "stream",
     "text": [
      "1.0\n"
     ]
    }
   ],
   "source": [
    "for i in np.linspace(1, 1, 1):\n",
    "    print(i)"
   ]
  },
  {
   "cell_type": "code",
   "execution_count": 38,
   "metadata": {},
   "outputs": [
    {
     "name": "stdout",
     "output_type": "stream",
     "text": [
      "   First  Second  Third  size\n",
      "5      3      80     26    10\n",
      "2     23       2     28    10\n",
      "0     46      88     24    10\n",
      "4     48      46      7    10\n",
      "1     73      74     75    10\n",
      "3     96      50     85    10\n"
     ]
    }
   ],
   "source": [
    "df_3column = pd.DataFrame({\n",
    "    'First': np.random.randint(0, 100, size = 6),\n",
    "    'Second': np.random.randint(0, 100, size = 6),\n",
    "    'Third': np.random.randint(0, 100, size = 6)\n",
    "})\n",
    "\n",
    "# df_3column['final'] = df_3column[['First', 'Second', 'Third']].min(axis=1)\n",
    "df_3column['size'] = 5 * 2\n",
    "print(df_3column.sort_values(by = 'First'))\n"
   ]
  },
  {
   "cell_type": "code",
   "execution_count": 36,
   "metadata": {},
   "outputs": [
    {
     "name": "stdout",
     "output_type": "stream",
     "text": [
      "   First  Second  Third\n",
      "2     48       0     74\n",
      "   First  Second  Third\n",
      "5     87      94      4\n"
     ]
    }
   ],
   "source": [
    "match_locs = []\n",
    "for column in ['First', 'Second', 'Third']:\n",
    "    minimum_row  = df_3column[df_3column[column] == df_3column[column].min()]\n",
    "    minimum_index = df_3column[df_3column[column] == df_3column[column].min()].index[0]\n",
    "    if df_3column[column].min() < 5:\n",
    "        print(minimum_row)\n",
    "        match_locs.append(minimum_index)\n",
    "    \n"
   ]
  },
  {
   "cell_type": "code",
   "execution_count": 39,
   "metadata": {},
   "outputs": [
    {
     "name": "stdout",
     "output_type": "stream",
     "text": [
      "['Moksh', 'Ahuja']\n"
     ]
    }
   ],
   "source": [
    "try_string =  'Moksh    Ahuja'\n",
    "elements = try_string.split()\n",
    "print(elements)"
   ]
  },
  {
   "cell_type": "code",
   "execution_count": 1,
   "metadata": {},
   "outputs": [],
   "source": []
  },
  {
   "cell_type": "code",
   "execution_count": 1,
   "metadata": {},
   "outputs": [],
   "source": [
    "from astropy.io import fits\n",
    "from astropy.io import ascii as asc\n",
    "import matplotlib.pyplot as plt\n",
    "from matplotlib.patches import Circle\n",
    "import numpy as np\n",
    "import pandas as pd\n",
    "import os\n",
    "import regex as re\n",
    "import shutil as sh"
   ]
  },
  {
   "cell_type": "code",
   "execution_count": 8,
   "metadata": {},
   "outputs": [
    {
     "name": "stdout",
     "output_type": "stream",
     "text": [
      "[1.7004294592282883, 0.5679608155576307, -0.6435212864765287, -0.09473575750399825, 1.2736412864873392, 0.44372781873285566, -1.9932209316891802, 1.2281986968300878, 0.7939105956845561, -0.42662301199815705]\n"
     ]
    }
   ],
   "source": [
    "x = [np.random.normal() for i in range(10)]\n",
    "print(x)"
   ]
  },
  {
   "cell_type": "code",
   "execution_count": 9,
   "metadata": {},
   "outputs": [
    {
     "name": "stdout",
     "output_type": "stream",
     "text": [
      "   OrderID CustomerID Product  Quantity  Price  OrderDate\n",
      "0        1       C001       A         2     20 2023-01-10\n",
      "1        2       C002       B         1     30 2023-01-11\n",
      "2        3       C001       A         3     20 2023-01-12\n",
      "3        4       C003       C         2     50 2023-01-13\n",
      "4        5       C002       B         1     30 2023-01-14\n",
      "5        6       C004       A         2     20 2023-01-15\n",
      "6        7       C001       C         1     50 2023-01-16\n",
      "7        8       C003       A         3     20 2023-01-17\n",
      "8        9       C002       B         1     30 2023-01-18\n",
      "9       10       C004       C         2     50 2023-01-19\n"
     ]
    }
   ],
   "source": [
    "import pandas as pd\n",
    "\n",
    "# Sample data\n",
    "data = {\n",
    "    'OrderID': [1, 2, 3, 4, 5, 6, 7, 8, 9, 10],\n",
    "    'CustomerID': ['C001', 'C002', 'C001', 'C003', 'C002', 'C004', 'C001', 'C003', 'C002', 'C004'],\n",
    "    'Product': ['A', 'B', 'A', 'C', 'B', 'A', 'C', 'A', 'B', 'C'],\n",
    "    'Quantity': [2, 1, 3, 2, 1, 2, 1, 3, 1, 2],\n",
    "    'Price': [20, 30, 20, 50, 30, 20, 50, 20, 30, 50],\n",
    "    'OrderDate': pd.to_datetime(['2023-01-10', '2023-01-11', '2023-01-12', '2023-01-13', '2023-01-14', \n",
    "                                  '2023-01-15', '2023-01-16', '2023-01-17', '2023-01-18', '2023-01-19'])\n",
    "}\n",
    "\n",
    "# Create DataFrame\n",
    "df = pd.DataFrame(data)\n",
    "\n",
    "# Display DataFrame\n",
    "print(df)\n"
   ]
  },
  {
   "cell_type": "code",
   "execution_count": 25,
   "metadata": {},
   "outputs": [],
   "source": [
    "df2 = df.groupby(['Product'])['Price'].agg(['sum', 'count'])"
   ]
  },
  {
   "cell_type": "code",
   "execution_count": 34,
   "metadata": {},
   "outputs": [
    {
     "name": "stdout",
     "output_type": "stream",
     "text": [
      "0    A\n",
      "1    B\n",
      "2    C\n",
      "Name: Product, dtype: object\n"
     ]
    }
   ],
   "source": [
    "print(df2.reset_index()['Product'])"
   ]
  },
  {
   "cell_type": "code",
   "execution_count": 38,
   "metadata": {},
   "outputs": [
    {
     "data": {
      "image/png": "[encoded data removed]",
      "text/plain": [
       "<Figure size 800x600 with 1 Axes>"
      ]
     },
     "metadata": {},
     "output_type": "display_data"
    }
   ],
   "source": [
    "import matplotlib.pyplot as plt\n",
    "import numpy as np\n",
    "\n",
    "# Sample data\n",
    "x = np.array([1, 2, 3, 4, 5])  # X-axis values\n",
    "y = np.array([2.1, 3.8, 4.5, 6.3, 8.2])  # Y-axis values (e.g., mean or observed data)\n",
    "\n",
    "# Error values (could be standard deviations, standard errors, etc.)\n",
    "yerr = np.array([0.3, 0.4, 0.2, 0.5, 0.3])  # Vertical errors\n",
    "xerr = np.array([0.2, 0.1, 0.2, 0.3, 0.1])  # Horizontal errors\n",
    "\n",
    "# Creating the plot\n",
    "plt.figure(figsize=(8, 6))\n",
    "plt.errorbar(x, y, yerr=yerr, xerr=xerr, fmt='o', capsize=5, capthick=2, ecolor='red', label='Data with error bars', color = 'green')\n",
    "\n",
    "# Adding labels and title\n",
    "plt.xlabel('X values')\n",
    "plt.ylabel('Y values')\n",
    "plt.title('Plot with Error Bars')\n",
    "plt.legend()\n",
    "\n",
    "# Display the plot\n",
    "plt.show()\n"
   ]
  },
  {
   "cell_type": "code",
   "execution_count": 1,
   "metadata": {},
   "outputs": [
    {
     "name": "stdout",
     "output_type": "stream",
     "text": [
      "hello\n"
     ]
    }
   ],
   "source": [
    "print('hello')"
   ]
  },
  {
   "cell_type": "code",
   "execution_count": null,
   "metadata": {},
   "outputs": [],
   "source": []
  }
 ],
 "metadata": {
  "kernelspec": {
   "display_name": "base",
   "language": "python",
   "name": "python3"
  },
  "language_info": {
   "codemirror_mode": {
    "name": "ipython",
    "version": 3
   },
   "file_extension": ".py",
   "mimetype": "text/x-python",
   "name": "python",
   "nbconvert_exporter": "python",
   "pygments_lexer": "ipython3",
   "version": "3.12.4"
  }
 },
 "nbformat": 4,
 "nbformat_minor": 2
}
